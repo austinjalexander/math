{
 "cells": [
  {
   "cell_type": "code",
   "execution_count": 1,
   "metadata": {
    "collapsed": true
   },
   "outputs": [],
   "source": [
    "import numpy as np"
   ]
  },
  {
   "cell_type": "markdown",
   "metadata": {},
   "source": [
    "### Scalars \n",
    "For example, $n \\in \\mathbb{N}$ or $s \\in \\mathbb{R}$"
   ]
  },
  {
   "cell_type": "code",
   "execution_count": 2,
   "metadata": {
    "collapsed": true
   },
   "outputs": [],
   "source": [
    "n = 3\n",
    "s = 4.67"
   ]
  },
  {
   "cell_type": "markdown",
   "metadata": {},
   "source": [
    "### Vectors\n",
    "$\\boldsymbol{x} = \\begin{bmatrix}x_{1} \\\\ x_{2} \\\\ \\vdots \\\\ x_{n}\\end{bmatrix}$"
   ]
  },
  {
   "cell_type": "code",
   "execution_count": 59,
   "metadata": {
    "collapsed": false
   },
   "outputs": [
    {
     "name": "stdout",
     "output_type": "stream",
     "text": [
      "[[ 2]\n",
      " [ 3]\n",
      " [ 5]\n",
      " [ 7]\n",
      " [11]\n",
      " [13]]\n",
      "\n",
      "shape: (6, 1)\n"
     ]
    }
   ],
   "source": [
    "x = np.array([[2],\n",
    "              [3],\n",
    "              [5],\n",
    "              [7],\n",
    "              [11],\n",
    "              [13]])\n",
    "print(x)\n",
    "print(\"\\nshape:\",x.shape)"
   ]
  },
  {
   "cell_type": "markdown",
   "metadata": {},
   "source": [
    "$x_{i} = x_{i,j}$"
   ]
  },
  {
   "cell_type": "code",
   "execution_count": 60,
   "metadata": {
    "collapsed": false
   },
   "outputs": [
    {
     "name": "stdout",
     "output_type": "stream",
     "text": [
      "13\n"
     ]
    }
   ],
   "source": [
    "print(x[5][0])"
   ]
  },
  {
   "cell_type": "markdown",
   "metadata": {},
   "source": [
    "#### Transpose\n",
    "$x^\\top = [x_{1}, x_{2}, ..., x_{3}]$"
   ]
  },
  {
   "cell_type": "code",
   "execution_count": 62,
   "metadata": {
    "collapsed": false
   },
   "outputs": [
    {
     "name": "stdout",
     "output_type": "stream",
     "text": [
      "[[ 2  3  5  7 11 13]]\n",
      "\n",
      "shape: (1, 6)\n"
     ]
    }
   ],
   "source": [
    "print(x.T)\n",
    "print(\"\\nshape:\",x.T.shape)"
   ]
  },
  {
   "cell_type": "markdown",
   "metadata": {},
   "source": [
    "### Matrices\n",
    "$\\boldsymbol{A} \\in \\mathbb{R}^{m \\times n}$\n",
    "\n",
    "For example, $\\boldsymbol{A} \\in \\mathbb{R}^{2 \\times 3}$\n",
    "\n",
    "$\\boldsymbol{A} = \\begin{bmatrix}A_{1,1} & A_{1,2} & A_{1,3} \\\\ A_{2,1} & A_{2,2} & A_{2,3}\\end{bmatrix}$"
   ]
  },
  {
   "cell_type": "code",
   "execution_count": 43,
   "metadata": {
    "collapsed": false
   },
   "outputs": [
    {
     "name": "stdout",
     "output_type": "stream",
     "text": [
      "[[ 2  3  5]\n",
      " [ 7 11 13]]\n",
      "\n",
      "shape: (2, 3)\n"
     ]
    }
   ],
   "source": [
    "A = np.array([[2,3,5],\n",
    "              [7,11,13]])\n",
    "print(A)\n",
    "print(\"\\nshape:\",A.shape)"
   ]
  },
  {
   "cell_type": "markdown",
   "metadata": {},
   "source": [
    "$A_{i,j}$"
   ]
  },
  {
   "cell_type": "code",
   "execution_count": 44,
   "metadata": {
    "collapsed": false
   },
   "outputs": [
    {
     "name": "stdout",
     "output_type": "stream",
     "text": [
      "13\n"
     ]
    }
   ],
   "source": [
    "print(A[1][2])"
   ]
  },
  {
   "cell_type": "code",
   "execution_count": 63,
   "metadata": {
    "collapsed": false
   },
   "outputs": [
    {
     "name": "stdout",
     "output_type": "stream",
     "text": [
      "[[ 2  3  5]\n",
      " [ 7 11 13]]\n",
      "\n",
      "shape: (2, 3)\n"
     ]
    }
   ],
   "source": [
    "A = np.matrix('2 3 5; 7 11 13')\n",
    "print(A)\n",
    "print(\"\\nshape:\",A.shape)"
   ]
  },
  {
   "cell_type": "code",
   "execution_count": 46,
   "metadata": {
    "collapsed": false
   },
   "outputs": [
    {
     "name": "stdout",
     "output_type": "stream",
     "text": [
      "13\n"
     ]
    }
   ],
   "source": [
    "print(A.item(1,2))"
   ]
  },
  {
   "cell_type": "markdown",
   "metadata": {},
   "source": [
    "#### Transpose\n",
    "$(\\boldsymbol{A}^\\top)_{i,j} = A_{j,i}$\n",
    "\n",
    "$\\boldsymbol{A} \\implies \\boldsymbol{A}^\\top = \\begin{bmatrix}A_{1,1} & A_{2,1} \\\\ A_{1,2} & A_{2,2} \\\\ A_{1,3} & A_{2,3}\\end{bmatrix} = \\begin{bmatrix}A^\\top_{1,1} & A^\\top_{1,2} \\\\ A^\\top_{2,1} & A^\\top_{2,2} \\\\ A^\\top_{3,1} & A^\\top_{3,2}\\end{bmatrix}$"
   ]
  },
  {
   "cell_type": "code",
   "execution_count": 65,
   "metadata": {
    "collapsed": false
   },
   "outputs": [
    {
     "name": "stdout",
     "output_type": "stream",
     "text": [
      "[[ 2  7]\n",
      " [ 3 11]\n",
      " [ 5 13]]\n",
      "\n",
      "shape: (3, 2)\n"
     ]
    }
   ],
   "source": [
    "print(A.T)\n",
    "print(\"\\nshape:\",A.T.shape)"
   ]
  },
  {
   "cell_type": "markdown",
   "metadata": {},
   "source": [
    "### Tensors\n",
    "\n",
    "$\\textsf{A} \\in \\mathbb{R}^{m \\times n \\times o}$\n",
    "\n",
    "For example, $\\textsf{A} \\in \\mathbb{R}^{2 \\times 3 \\times 2}$"
   ]
  },
  {
   "cell_type": "code",
   "execution_count": 47,
   "metadata": {
    "collapsed": false
   },
   "outputs": [
    {
     "name": "stdout",
     "output_type": "stream",
     "text": [
      "[[[ 2  3]\n",
      "  [ 5  7]\n",
      "  [11 13]]\n",
      "\n",
      " [[ 2  4]\n",
      "  [ 6  8]\n",
      "  [10 12]]]\n",
      "\n",
      "shape: (2, 3, 2)\n"
     ]
    }
   ],
   "source": [
    "A = np.array([2,3,5,7,11,13,2,4,6,8,10,12]).reshape(2,3,2)\n",
    "print(A)\n",
    "print(\"\\nshape:\",A.shape)"
   ]
  },
  {
   "cell_type": "code",
   "execution_count": 50,
   "metadata": {
    "collapsed": false
   },
   "outputs": [
    {
     "name": "stdout",
     "output_type": "stream",
     "text": [
      "[[[ 2  3]\n",
      "  [ 5  7]\n",
      "  [11 13]]\n",
      "\n",
      " [[ 2  4]\n",
      "  [ 6  8]\n",
      "  [10 12]]]\n",
      "\n",
      "shape: (2, 3, 2)\n"
     ]
    }
   ],
   "source": [
    "A = np.array([[[2, 3],\n",
    "               [5, 7],\n",
    "               [11, 13]],\n",
    "              [[2, 4],\n",
    "               [6, 8],\n",
    "               [10, 12]]])\n",
    "print(A)\n",
    "print(\"\\nshape:\",A.shape)"
   ]
  },
  {
   "cell_type": "markdown",
   "metadata": {},
   "source": [
    "$\\textsf{A}_{i,j,k}$"
   ]
  },
  {
   "cell_type": "code",
   "execution_count": 57,
   "metadata": {
    "collapsed": false
   },
   "outputs": [
    {
     "name": "stdout",
     "output_type": "stream",
     "text": [
      "13\n"
     ]
    }
   ],
   "source": [
    "print(A[0][2][1])"
   ]
  },
  {
   "cell_type": "markdown",
   "metadata": {},
   "source": [
    "### Matrix Addition\n",
    "$\\boldsymbol{C} = \\boldsymbol{A} + \\boldsymbol{B}$, where $C_{i,j} = A_{i,j} + B_{i,j}$"
   ]
  },
  {
   "cell_type": "code",
   "execution_count": 67,
   "metadata": {
    "collapsed": false
   },
   "outputs": [
    {
     "name": "stdout",
     "output_type": "stream",
     "text": [
      "[[ 4  7 11]\n",
      " [15 21 25]]\n",
      "\n",
      "shape: (2, 3)\n"
     ]
    }
   ],
   "source": [
    "A = np.matrix('2 3 5; 7 11 13')\n",
    "B = np.matrix('2 4 6; 8 10 12')\n",
    "C = A + B\n",
    "print(C)\n",
    "print(\"\\nshape:\",C.shape)"
   ]
  }
 ],
 "metadata": {
  "anaconda-cloud": {},
  "kernelspec": {
   "display_name": "Python [conda env:env]",
   "language": "python",
   "name": "conda-env-env-py"
  },
  "language_info": {
   "codemirror_mode": {
    "name": "ipython",
    "version": 3
   },
   "file_extension": ".py",
   "mimetype": "text/x-python",
   "name": "python",
   "nbconvert_exporter": "python",
   "pygments_lexer": "ipython3",
   "version": "3.5.2"
  }
 },
 "nbformat": 4,
 "nbformat_minor": 1
}
