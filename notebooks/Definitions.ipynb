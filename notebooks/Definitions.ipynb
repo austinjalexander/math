{
 "cells": [
  {
   "cell_type": "markdown",
   "metadata": {},
   "source": [
    "[From Briggs, Cochran *Calculus: Early Transcendentals*.]"
   ]
  },
  {
   "cell_type": "markdown",
   "metadata": {},
   "source": [
    "### Function\n",
    "A function $f$ is a rule that assigns to each value $x$ in a set $D$ a unique value denoted $f(x)$. The set $D$ is the domain of the function. The range is the set of all values $f(x)$ produced as $x$ varies over the domain."
   ]
  },
  {
   "cell_type": "markdown",
   "metadata": {},
   "source": [
    "### Limit of a Function (Preliminary)\n",
    "Suppose the function $f$ is defined for all $x$ near $a$ except possibly at $a$. If $f(x)$ is arbitrarily close to $L$ (as close to $L$ as we like for all $x$ sufficiently close (but not equal) to $a$, we write \n",
    "$$\\lim_{x \\rightarrow a} f(x) = L$$\n",
    "and say the limit of $f(x)$ as $x$ approaches $a$ equals $L$."
   ]
  },
  {
   "cell_type": "markdown",
   "metadata": {},
   "source": [
    "### Rates of Change and the Tangent Line\n",
    "The average rate of change in $f$ on the interval $[a,x]$ is the slope of the corresponding secant line:\n",
    "$$m_{sec} = \\frac{f(x) - f(a)}{x - a}$$\n",
    "\n",
    "The instantaneous rate of change in $f$ at $x = a$ is\n",
    "$$m_{tan} = \\lim_{x \\rightarrow a} \\frac{f(x) - f(a)}{x - a}$$\n",
    "\n",
    "which is also the slope of the tangent line at $x = a$, provided this limit exist. The tangent line at $x = a$ is the unique line through $(a, f(a))$ with slope $m_{tan}$. Its equation is\n",
    "$$y - f(a) = m_{tan}(x - a)$$\n",
    "\n",
    "### The Number $e$\n",
    "The number $e = 2.718281828459...$ satisfies\n",
    "$$\\lim_{h \\rightarrow 0} \\frac{e^{h} - 1}{h} = 1$$\n",
    "\n",
    "It is the base of the natural exponential function $f(x) = e^{x}$."
   ]
  }
 ],
 "metadata": {
  "anaconda-cloud": {},
  "kernelspec": {
   "display_name": "Python [conda env:math]",
   "language": "python",
   "name": "conda-env-math-py"
  },
  "language_info": {
   "codemirror_mode": {
    "name": "ipython",
    "version": 3
   },
   "file_extension": ".py",
   "mimetype": "text/x-python",
   "name": "python",
   "nbconvert_exporter": "python",
   "pygments_lexer": "ipython3",
   "version": "3.5.2"
  }
 },
 "nbformat": 4,
 "nbformat_minor": 1
}
