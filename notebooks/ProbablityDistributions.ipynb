{
 "cells": [
  {
   "cell_type": "markdown",
   "metadata": {},
   "source": [
    "### Probablity Mass Function (PMF)\n",
    "\n",
    "A probability distribution over discrete variables.\n",
    "\n",
    "$P(\\text{x} = x)$\n",
    "\n",
    "- The domain of $P$ must be the set of all possible states of $\\text{x}$.\n",
    "- $\\forall x \\in \\text{x}, 0 \\leq P(x) \\leq 1$\n",
    "- Normalized (i.e., $\\sum_{x \\in \\text{x}} P(x) = 1$)\n",
    "\n",
    "### Distribution Specification\n",
    "$\\text{x} \\sim P(x)$\n",
    "\n",
    "### Joint Probability Distribution\n",
    "$P(\\text{x} = x, \\text{y} = y) = P(x, y)$"
   ]
  }
 ],
 "metadata": {
  "anaconda-cloud": {},
  "kernelspec": {
   "display_name": "Python [conda env:math]",
   "language": "python",
   "name": "conda-env-math-py"
  },
  "language_info": {
   "codemirror_mode": {
    "name": "ipython",
    "version": 3
   },
   "file_extension": ".py",
   "mimetype": "text/x-python",
   "name": "python",
   "nbconvert_exporter": "python",
   "pygments_lexer": "ipython3",
   "version": "3.5.2"
  }
 },
 "nbformat": 4,
 "nbformat_minor": 1
}
